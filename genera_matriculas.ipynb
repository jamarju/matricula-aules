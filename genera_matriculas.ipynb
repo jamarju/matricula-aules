{
 "cells": [
  {
   "cell_type": "code",
   "execution_count": null,
   "metadata": {},
   "outputs": [],
   "source": [
    "import locale\n",
    "import numpy as np\n",
    "import os\n",
    "import pandas as pd\n",
    "import tempfile\n",
    "from datetime import datetime\n",
    "from fdfgen import forge_fdf\n",
    "from pathlib import Path\n",
    "from tqdm.notebook import tqdm"
   ]
  },
  {
   "cell_type": "markdown",
   "metadata": {},
   "source": [
    "# 👇 Configuración"
   ]
  },
  {
   "cell_type": "code",
   "execution_count": null,
   "metadata": {},
   "outputs": [],
   "source": [
    "CURSO = 'CF GA'                       # 1ESO, 2ESO, 3ESO, 3PMAR, 4ESO, 1BACH, 2BACH, FPB SA, CF AD, CF GA, CF COM\n",
    "DESDE = datetime(2020, 5, 17,  0,  0) # año, mes, día, h, m (INCLUSIVE)\n",
    "HASTA = datetime(2021, 6, 18, 23, 59) # año, mes, día, h, m (INCLUSIVE)"
   ]
  },
  {
   "cell_type": "markdown",
   "metadata": {},
   "source": [
    "# 👆"
   ]
  },
  {
   "cell_type": "code",
   "execution_count": null,
   "metadata": {},
   "outputs": [],
   "source": [
    "pdfs_d = {\n",
    "    '1ESO': '1ESO/02._MATRICULA_ESO_1_LOMCE.pdf',\n",
    "    '2ESO': '2ESO/02._MATRICULA_ESO_2_LOMCE.pdf',\n",
    "    '3ESO': '3ESO/02._MATRICULA_ESO_3_LOMCE.pdf',\n",
    "    '3PMAR': '3PMAR/02._MATRICULA_ESO_3_PMAR_LOMCE.pdf',\n",
    "    '4ESO': '4ESO/02._MATRICULA_ESO_4_LOMCE.pdf',\n",
    "    '1BACH': '1BACH/03. MATRÍCULA BAC_1_LOMCE.pdf',\n",
    "    '2BACH': '2BACH/03. MATRICULA BAC_2_LOMCE.pdf',\n",
    "    'FPB SA': 'FPB SA/02. MATRÍCULA_FPB SERVICIOS ADMINISTRATIVOS.pdf',\n",
    "    'CF AD': 'CF AD/02. MATRÍCULA _CF ASISTENCIA A LA DIRECCIÓN.pdf',\n",
    "    'CF GA': 'CF GA/02. MATRÍCULA _CF GESTIÓN ADMINISTRATIVA.pdf',\n",
    "    'CF COM': 'CF COM/02. MATRÍCULA _CF ACTIVIDADES COMERCIALES.pdf',\n",
    "}\n",
    "\n",
    "csvs_d = {\n",
    "    '1ESO': '1ESO/1ESO Cuestionario de matrícula.csv',\n",
    "    '2ESO': '2ESO/2ESO Cuestionario de matrícula.csv',\n",
    "    '3ESO': '3ESO/3ESO Cuestionario de matrícula.csv',\n",
    "    '3PMAR': '3PMAR/3PMAR Cuestionario de matrícula.csv',\n",
    "    '4ESO': '4ESO/4ESO Cuestionario de matrícula.csv',\n",
    "    '1BACH': '1BACH/1BACH Cuestionario de matrícula.csv',\n",
    "    '2BACH': '2BACH/2BACH Cuestionario de matrícula.csv',\n",
    "    'FPB SA': 'FPB SA/FPB SERVICIOS ADMINISTRATIVOS Cuestionario de matrícula.csv',\n",
    "    'CF AD': 'CF AD/CFGS ASISTENCIA A DIRECCIÓN Cuestionario de matrícula.csv',\n",
    "    'CF GA': 'CF GA/CFGM GESTIÓN ADMINISTRATIVA Cuestionario de matrícula.csv',\n",
    "    'CF COM': 'CF COM/CFGM ACTIVIDADES COMERCIALES Cuestionario de matrícula.csv',\n",
    "}"
   ]
  },
  {
   "cell_type": "code",
   "execution_count": null,
   "metadata": {},
   "outputs": [],
   "source": [
    "csv_file = csvs_d[CURSO]\n",
    "pdf_file = pdfs_d[CURSO]\n",
    "out_dir = Path(f'SALIDA_{CURSO}')"
   ]
  },
  {
   "cell_type": "code",
   "execution_count": null,
   "metadata": {},
   "outputs": [],
   "source": [
    "out_dir.mkdir(parents=True, exist_ok=True)"
   ]
  },
  {
   "cell_type": "code",
   "execution_count": null,
   "metadata": {},
   "outputs": [],
   "source": [
    "# lee CSV\n",
    "mat_df = pd.read_csv(csv_file)"
   ]
  },
  {
   "cell_type": "code",
   "execution_count": null,
   "metadata": {},
   "outputs": [],
   "source": [
    "# traduce fecha moodle -> datetime\n",
    "locale.setlocale(locale.LC_TIME, 'es_ES')\n",
    "mat_df['Fecha'] = mat_df['Fecha'].apply(lambda x: datetime.strptime(x, '%A, %d de %B de %Y, %H:%M'))"
   ]
  },
  {
   "cell_type": "code",
   "execution_count": null,
   "metadata": {},
   "outputs": [],
   "source": [
    "# filtra fuera de fechas\n",
    "mat_df = mat_df[(mat_df['Fecha'] >= DESDE) & (mat_df['Fecha'] <= HASTA)]\n",
    "print(f'Hay {len(mat_df)} matrículas')"
   ]
  },
  {
   "cell_type": "code",
   "execution_count": null,
   "metadata": {},
   "outputs": [],
   "source": [
    "# nulos -> '---'\n",
    "mat_df = mat_df.fillna('---')"
   ]
  },
  {
   "cell_type": "code",
   "execution_count": null,
   "metadata": {},
   "outputs": [],
   "source": [
    "# multi-respuestas -> listas\n",
    "if CURSO[:2] == 'CF':\n",
    "    mat_df['mods'] = mat_df['Módulos formativos de 1º'].str.split('\\n') + mat_df['Módulos formativos de 2º'].str.split('\\n')"
   ]
  },
  {
   "cell_type": "code",
   "execution_count": null,
   "metadata": {},
   "outputs": [],
   "source": [
    "# Imprime la 1ª matrícula\n",
    "mat_df[:1].T"
   ]
  },
  {
   "cell_type": "code",
   "execution_count": null,
   "metadata": {},
   "outputs": [],
   "source": [
    "# optativas\n",
    "opts = {\n",
    "    'Alemán 2º idioma': 'ALE', # 4ESO\n",
    "    'Anatomía Aplicada': 'AA', # 1BAT\n",
    "    'Competencia Comunicativa Oral en Inglés': 'CCOI',\n",
    "    'Cultura Científica': 'CCIE', # 4ESO\n",
    "    'Cultura Clásica': 'CCLA',\n",
    "    'Educación Plástica': 'EPV', # 4ESO\n",
    "    'Educación Plástica, Visual y Audiovisual': 'EPVA',\n",
    "    'Filosofía': 'FIL', # 4ESO\n",
    "    'Física': 'FIS',\n",
    "    'Francés 2º idioma': 'FRA', # 4ESO\n",
    "    'Geología': 'GEOL',\n",
    "    'Informática': 'INF', # 4ESO\n",
    "    'Iniciación a la Actividad Emprendedora y Empresarial': 'IAEE',\n",
    "    'Música': 'MUS', # 4ESO\n",
    "    'Proyecto Interdisciplinar: Impresión 3D, programación y robótica aplicadas': 'PI', # 4ESO\n",
    "    'Psicología': 'PSI',\n",
    "    'Religión Católica': 'REL', # 1BAT, 2BAT\n",
    "    'Taller de refuerzo de Castellano': 'RCAS',\n",
    "    'Taller de refuerzo de Matemáticas': 'RMAT',\n",
    "    'Tecnología': 'TEC', # 3ESO, 4ESO\n",
    "    'Tecnologías de la Información y la Comunicación I': 'TIC1', # 1BAT\n",
    "    'Tecnologías de la Información y la Comunicación II': 'TIC2', # 1BAT\n",
    "}"
   ]
  },
  {
   "cell_type": "code",
   "execution_count": null,
   "metadata": {},
   "outputs": [],
   "source": [
    "# módulos\n",
    "mods = {\n",
    "    'FPB SA': {\n",
    "        # 1º FPB SA\n",
    "        '3001. Tratamiento Informático de Datos': 'fpb1_tid',\n",
    "        '3003. Técnicas Administrativas Básicas': 'fpb1_tab',\n",
    "        '3005. Atención al Cliente': 'fpb1_ac',\n",
    "        '3006. Preparación de Pedidos y Venta de Productos': 'fpb1_ppvp',\n",
    "        '3009. Ciencias Aplicadas I': 'fpb1_ccaa1',\n",
    "        '3011. Comunicación y Sociedad I': 'fpb1_cys1',\n",
    "        'CV0005. Formación y Orientación Laboral I': 'fpb1_fol1',\n",
    "        # 2º FPB SA\n",
    "        '3002. Aplicaciones Básicas de Ofimática': 'fpb2_abo',\n",
    "        '3004. Archivo y Comunicación': 'fpb2_ac',\n",
    "        '3010. Ciencias Aplicadas II': 'fpb2_ccaa2',\n",
    "        '3012. Comunicación y Sociedad II': 'fpb2_cys2',\n",
    "        'CV0006 Formación y Orientación Laboral II': 'fpb2_fol2',\n",
    "        '3008. Formación en Centros de Trabajo': 'fpb2_fct',\n",
    "    },\n",
    "\n",
    "    'CF AD': {\n",
    "        # 1º\n",
    "        '0647. Gestión de la documentación jurídica y empresarial': '1ad_gdje',\n",
    "        '0648. Recursos humanos y responsabilidad social corporativa': '1ad_rhrsc',\n",
    "        '0649. Ofimática y proceso de la información': '1ad_opi',\n",
    "        '0650. Proceso integral de la actividad comercial': '1ad_piac',\n",
    "        '0651. Comunicación y atención al cliente': '1ad_cac',\n",
    "        '0179. Inglés': '1ad_ing',\n",
    "        '0665. Formación y orientación laboral': '1ad_fol',\n",
    "        # 2º\n",
    "        '0661. Protocolo empresarial': '2ad_pe',\n",
    "        '0662. Organización de eventos empresariales': '2ad_oee',\n",
    "        '0663. Gestión avanzada de la información': '2ad_gai',\n",
    "        '0180. Segunda lengua extranjera': '2ad_fr2',\n",
    "        'CV0004. Inglés técnico II-S / Horario reserv. docencia en inglés': '2ad_ingtec',\n",
    "        '0664. Proyecto de asistencia a la dirección': '2ad_proyecto',\n",
    "        '0667. Formación en centros de trabajo': '2ad_fct',\n",
    "    },\n",
    "    \n",
    "    'CF GA': {\n",
    "        # 1º\n",
    "        '0437. Comunicación empresarial y atención al cliente': '1ga_ceac',\n",
    "        '0438. Operaciones administrativas de compraventa': '1ga_oacv',\n",
    "        '0439. Empresa y administración': '1ga_ea',\n",
    "        '0440. Tratamiento informático de la información': '1ga_tii',\n",
    "        '0441. Técnica contable': '1ga_tc',\n",
    "        '0156. Inglés': '1ga_ing',\n",
    "        '0449. Formación y orientación laboral': '1ga_fol',\n",
    "        \n",
    "        # 2º\n",
    "        '0442. Operaciones administrativas de compraventa': '2ga_oarh',\n",
    "        '0443. Tratamiento de la documentación contable': '2ga_tdc',\n",
    "        '0446. Empresa en el aula': '2ga_eea',\n",
    "        '0448. Operaciones auxiliares de gestión de tesorería': '2ga_oagt',\n",
    "        'CV0002. Inglés técnico II-M / Horario reservado docencia en inglés': '2ga_ingtec',\n",
    "        '0451. Formación en centros de trabajo': '2ga_fct',\n",
    "    },\n",
    "    \n",
    "    'CF COM': {\n",
    "        #1º\n",
    "        '1226. Marketing en la actividad comercial': '1ac_mac',\n",
    "        '1229. Gestión de compras': '1ac_gc',\n",
    "        '1231. Dinamización del punto de venta': '1ac_dpb',\n",
    "        '1232. Procesos de venta': '1ac_pv',\n",
    "        '1233. Aplicaciones informáticas para el comercio': '1ac_aic',\n",
    "        '0156. Inglés': '1ac_ing',\n",
    "        '1236. Formación y Orientación Laboral': '1ac_fol',\n",
    "        # 2º\n",
    "        '1227. Gestión de un pequeño comercio': '2ac_gpc',\n",
    "        '1228. Técnicas de almacén': '2ac_ta',\n",
    "        '1230. Venta técnica': '2ac_vt',\n",
    "        '1234. Servicios de atención comercial': '2ac_sac',\n",
    "        '1235. Comercio electrónico': '2ac_ce',\n",
    "        'CV0002. Inglés técnico II-M/Horario reserv. docencia Inglés': '2ac_intec',\n",
    "        '1237. Formación en Centros de Trabajo': '2ac_fct',\n",
    "    }\n",
    "}"
   ]
  },
  {
   "cell_type": "code",
   "execution_count": null,
   "metadata": {},
   "outputs": [],
   "source": [
    "# Separa nombre de apellidos\n",
    "na = mat_df['Nombre completo del usuario'].str.split(', ', expand=True)\n",
    "mat_df['apellidos_alu'] = na[0]\n",
    "mat_df['nombre_alu'] = na[1]\n",
    "\n",
    "# Rellena los checkboxes\n",
    "mat_df['convive_padre'] = np.where(mat_df['Convive con'] == 'Padre', 'Yes', 'Off')\n",
    "mat_df['convive_madre'] = np.where(mat_df['Convive con'] == 'Madre', 'Yes', 'Off')\n",
    "mat_df['convive_ambos'] = np.where(mat_df['Convive con'] == 'Ambos', 'Yes', 'Off')\n",
    "\n",
    "# Todas las matrículas vía aules son de alumnos del centro\n",
    "mat_df['centro_procedencia'] = 'IES Nº1 LIBERTAS'\n",
    "\n",
    "# Junta apellido + nombre de padre/madre\n",
    "mat_df['nombre_pad'] = mat_df['Apellidos del padre o tutor legal'] + ', ' + mat_df['Nombre del padre o tutor legal']\n",
    "mat_df['nombre_mad'] = mat_df['Apellidos de la madre o tutora legal'] + ', ' + mat_df['Nombre de la madre o tutora legal']\n",
    "\n",
    "# Renombra columnas csv -> campos pdf\n",
    "mat_df = mat_df.rename(columns={\n",
    "    'Con quién convive el alumno': 'convive_otros', \n",
    "    'Domicilio (calle/plaza y número) del alumno': 'domicilio_alu',\n",
    "    'Código postal del alumno<span class=\"boundaries\"></span>': 'cp_alu',\n",
    "    'Localidad del alumno': 'localidad_alu',\n",
    "    'Provincia del alumno': 'provincia_alu',\n",
    "\n",
    "    'DNI/NIE del padre o tutor legal': 'dni_pad',\n",
    "    'E-MAIL del padre o tutor legal': 'email_pad',\n",
    "    'Teléfono 1 del padre o tutor legal': 'telefono1_pad',\n",
    "    'Teléfono 2 del padre o tutor legal': 'telefono2_pad',\n",
    "    'Domicilio (calle/plaza y número) del padre o tutor legal': 'domicilio_pad',\n",
    "    'Código postal del padre o tutor legal<span class=\"boundaries\"></span>': 'cp_pad',\n",
    "    'Localidad del padre o tutor legal': 'localidad_pad',\n",
    "    'Provincia del padre o tutor legal': 'provincia_pad',\n",
    "\n",
    "    'DNI/NIE de la madre o tutora legal': 'dni_mad',\n",
    "    'E-MAIL de la madre o tutora legal': 'email_mad',\n",
    "    'Teléfono 1 de la madre o tutora legal': 'telefono1_mad',\n",
    "    'Teléfono 2 de la madre o tutora legal': 'telefono2_mad',\n",
    "    'Domicilio (calle/plaza y número) de la madre o tutora legal': 'domicilio_mad',\n",
    "    'Código postal de la madre o tutora legal<span class=\"boundaries\"></span>': 'cp_mad',\n",
    "    'Localidad de la madre o tutora legal': 'localidad_mad',\n",
    "    'Provincia de la madre o tutora legal': 'provincia_mad',\n",
    "\n",
    "    'Grupo actual': 'grupo',\n",
    "})"
   ]
  },
  {
   "cell_type": "markdown",
   "metadata": {},
   "source": [
    "## Casillas especificas por curso (ESO)"
   ]
  },
  {
   "cell_type": "code",
   "execution_count": null,
   "metadata": {},
   "outputs": [],
   "source": [
    "if CURSO in ['1ESO', '2ESO', '3ESO', '4ESO']:\n",
    "    mat_df['pluri_si'] = np.where(mat_df['Desea pertenecer al grupo plurilingüe'] == 'Sí', 'Yes', 'Off')\n",
    "    mat_df['pluri_no'] = np.where(mat_df['Desea pertenecer al grupo plurilingüe'] == 'No', 'Yes', 'Off')\n",
    "\n",
    "if CURSO in ['3ESO']:\n",
    "    mat_df['MAA'] = np.where(mat_df['Elija Matemáticas'] == 'Académicas', 'Yes', 'Off')\n",
    "    mat_df['MAP'] = np.where(mat_df['Elija Matemáticas'] == 'Aplicadas', 'Yes', 'Off')\n",
    "    \n",
    "if CURSO in ['4ESO']:\n",
    "    mat_df['itinerario_ciencias'] = np.where(mat_df['Elija itinerario'] == 'Bachillerato Ciencias', 'Yes', 'Off')\n",
    "    mat_df['itinerario_humanidades'] = np.where(mat_df['Elija itinerario'] == 'Bachillerato Humanidades o CCSS', 'Yes', 'Off')\n",
    "    mat_df['itinerario_aplicadas'] = np.where(\n",
    "        (mat_df['Elija itinerario'] == 'Enseñanzas aplicadas con Ciencias Aplicadas a la Actividad Profesional') |\n",
    "        (mat_df['Elija itinerario'] == 'Enseñanzas aplicadas con Iniciación a la Actividad Emprendedora y Empresarial'),\n",
    "        'Yes', 'Off'\n",
    "    )\n",
    "    mat_df['itinerario_aplicadas_cacp'] = np.where(\n",
    "        mat_df['Elija itinerario'] == 'Enseñanzas aplicadas con Ciencias Aplicadas a la Actividad Profesional',\n",
    "        'X', ''\n",
    "    )\n",
    "    mat_df['itinerario_aplicadas_iaee'] = np.where(\n",
    "        mat_df['Elija itinerario'] == 'Enseñanzas aplicadas con Iniciación a la Actividad Emprendedora y Empresarial',\n",
    "        'X', ''\n",
    "    )\n",
    "\n",
    "if CURSO in ['1ESO', '2ESO', '3ESO', '3PMAR', '4ESO']:\n",
    "    mat_df['religion'] = np.where(mat_df['Elija Religión o Valores Éticos'] == 'Religión', 'Yes', 'Off')\n",
    "    mat_df['valores']  = np.where(mat_df['Elija Religión o Valores Éticos'] == 'Valores Éticos', 'Yes', 'Off')\n",
    "    mat_df['croni_si'] = np.where(mat_df['El alumno padece enfermedad crónica'] == 'Sí', 'Yes', 'Off')\n",
    "    mat_df['croni_no'] = np.where(mat_df['El alumno padece enfermedad crónica'] == 'No', 'Yes', 'Off')\n",
    "    mat_df['ampa_si']  = np.where(mat_df['Pertenece a la AMPA'] == 'Sí', 'Yes', 'Off')\n",
    "    mat_df['ampa_no']  = np.where(mat_df['Pertenece a la AMPA'] == 'No', 'Yes', 'Off')"
   ]
  },
  {
   "cell_type": "markdown",
   "metadata": {},
   "source": [
    "## Casillas especificas por curso (1BACH)"
   ]
  },
  {
   "cell_type": "code",
   "execution_count": null,
   "metadata": {},
   "outputs": [],
   "source": [
    "if CURSO in ['1BACH']:\n",
    "    # Itinerarios\n",
    "    mat_df['itinerario_ciencias'] = np.where(\n",
    "        (mat_df['Elija itinerario'] == 'Ciencias con Dibujo Técnico I') |\n",
    "        (mat_df['Elija itinerario'] == 'Ciencias con Biología y Geología'),\n",
    "        'Yes', 'Off'\n",
    "    )\n",
    "    mat_df['itinerario_humanidades'] = np.where(\n",
    "        (mat_df['Elija itinerario'] == 'Humanidades con Hª Mundo Contemporáneo') |\n",
    "        (mat_df['Elija itinerario'] == 'Humanidades con Literatura Universal'),\n",
    "        'Yes', 'Off'\n",
    "    )\n",
    "    mat_df['itinerario_ccss'] = np.where(\n",
    "        (mat_df['Elija itinerario'] == 'CCSS con Hª Mundo Contemporáneo') |\n",
    "        (mat_df['Elija itinerario'] == 'CCSS con Literatura Universal'),\n",
    "        'Yes', 'Off'\n",
    "    )\n",
    "    # Troncales\n",
    "    mat_df['troncal_DT1'] = np.where(\n",
    "        mat_df['Elija itinerario'] == 'Ciencias con Dibujo Técnico I',\n",
    "        'X', ''\n",
    "    )\n",
    "    mat_df['troncal_BG'] = np.where(\n",
    "        mat_df['Elija itinerario'] == 'Ciencias con Biología y Geología',\n",
    "        'X', ''\n",
    "    )\n",
    "    mat_df['troncal_HMC'] = np.where(\n",
    "        (mat_df['Elija itinerario'] == 'Humanidades con Hª Mundo Contemporáneo') |\n",
    "        (mat_df['Elija itinerario'] == 'CCSS con Hª Mundo Contemporáneo'),\n",
    "        'X', ''\n",
    "    )\n",
    "    mat_df['troncal_LU'] = np.where(\n",
    "        (mat_df['Elija itinerario'] == 'Humanidades con Literatura Universal') |\n",
    "        (mat_df['Elija itinerario'] == 'CCSS con Literatura Universal'),\n",
    "        'X', ''\n",
    "    )"
   ]
  },
  {
   "cell_type": "markdown",
   "metadata": {},
   "source": [
    "## Casillas especificas por curso (2BACH)"
   ]
  },
  {
   "cell_type": "code",
   "execution_count": null,
   "metadata": {},
   "outputs": [],
   "source": [
    "if CURSO in ['2BACH']:\n",
    "    # Itinerarios\n",
    "    mat_df['itinerario_ciencias'] = np.where(\n",
    "        (mat_df['Elija itinerario'] == 'Ciencias + Matemáticas II + Biología + Química') |\n",
    "        (mat_df['Elija itinerario'] == 'Ciencias + Matemáticas II + Física + Dibujo Técnico II') |\n",
    "        (mat_df['Elija itinerario'] == 'Ciencias + Matemáticas II + Física + Química'),\n",
    "        'Yes', 'Off'\n",
    "    )\n",
    "    mat_df['itinerario_humanidades'] = np.where(\n",
    "        (mat_df['Elija itinerario'] == 'Humanidades + Geografía') |\n",
    "        (mat_df['Elija itinerario'] == 'Humanidades + Hª del Arte'),\n",
    "        'Yes', 'Off'\n",
    "    )\n",
    "    mat_df['itinerario_ccss'] = np.where(\n",
    "        (mat_df['Elija itinerario'] == 'CCSS + Geografía') |\n",
    "        (mat_df['Elija itinerario'] == 'CCSS + Hª del Arte'),\n",
    "        'Yes', 'Off'\n",
    "    )\n",
    "    # Troncales\n",
    "    mat_df['troncal_mat2_bio_qui'] = np.where(\n",
    "        mat_df['Elija itinerario'] == 'Ciencias + Matemáticas II + Biología + Química',\n",
    "        'X', ''\n",
    "    )\n",
    "    mat_df['troncal_mat2_fis_dt2'] = np.where(\n",
    "        mat_df['Elija itinerario'] == 'Ciencias + Matemáticas II + Física + Dibujo Técnico II',\n",
    "        'X', ''\n",
    "    )\n",
    "    mat_df['troncal_mat2_fis_qui'] = np.where(\n",
    "        mat_df['Elija itinerario'] == 'Ciencias + Matemáticas II + Física + Química',\n",
    "        'X', ''\n",
    "    )\n",
    "    mat_df['troncal_GEO'] = np.where(\n",
    "        (mat_df['Elija itinerario'] == 'Humanidades + Geografía') |\n",
    "        (mat_df['Elija itinerario'] == 'CCSS + Geografía'),\n",
    "        'X', ''\n",
    "    )\n",
    "    mat_df['troncal_HA'] = np.where(\n",
    "        (mat_df['Elija itinerario'] == 'Humanidades + Hª del Arte') |\n",
    "        (mat_df['Elija itinerario'] == 'CCSS + Hª del Arte'),\n",
    "        'X', ''\n",
    "    )\n",
    "\n",
    "    # EF voluntaria\n",
    "    mat_df['vol_ef'] = np.where(mat_df['Cursar Educación Fisicodeportiva y Salud'] == 'Sí', 'X', '')"
   ]
  },
  {
   "cell_type": "markdown",
   "metadata": {},
   "source": [
    "## Casillas específicas ciclos"
   ]
  },
  {
   "cell_type": "code",
   "execution_count": null,
   "metadata": {},
   "outputs": [],
   "source": [
    "def cumplimenta_checkboxes(mat_df, pregunta, respuestas_y_campos):\n",
    "    for respuesta, campo in respuestas_y_campos.items():\n",
    "        mat_df[campo] = np.where(mat_df[pregunta] == respuesta, 'Yes', 'Off')"
   ]
  },
  {
   "cell_type": "code",
   "execution_count": null,
   "metadata": {},
   "outputs": [],
   "source": [
    "if CURSO == 'CF AD':\n",
    "    cumplimenta_checkboxes(\n",
    "        mat_df,\n",
    "        'Accede al ciclo por cumplir el siguiente requisito',\n",
    "        {\n",
    "            'Superar prueba de acceso a un ciclo formativo de grado superior' : 'acceso_pac',\n",
    "            'Superar prueba de acceso a la universidad para mayores de 25 años' : 'acceso_25',\n",
    "            'Título de Bachiller LOGSE/LOCE/LOE/COU/BUP' : 'acceso_batx',\n",
    "            'Acceso desde un grado medio' : 'acceso_gm',\n",
    "        }\n",
    "    )"
   ]
  },
  {
   "cell_type": "code",
   "execution_count": null,
   "metadata": {},
   "outputs": [],
   "source": [
    "if CURSO in ['CF GA', 'CF COM']:\n",
    "    cumplimenta_checkboxes(\n",
    "        mat_df,\n",
    "        'Accede al ciclo por cumplir el siguiente requisito',\n",
    "        {\n",
    "            'Superar prueba de acceso a un ciclo formativo de grado medio' : 'acceso_pac',\n",
    "            'Superar prueba de acceso a la universidad para mayores de 25 años' : 'acceso_25',\n",
    "            'Haber superado 2º BUP' : 'acceso_2bup',\n",
    "            'Título Profesional Básico' : 'acceso_tpb',\n",
    "            'Título de Bachiller LOGSE/LOCE/LOE/LOMCE' : 'acceso_batx',\n",
    "            'Graduado en E.S.O.' : 'acceso_ges',\n",
    "        }\n",
    "    )"
   ]
  },
  {
   "cell_type": "markdown",
   "metadata": {},
   "source": [
    "## Numera optativas por preferencia"
   ]
  },
  {
   "cell_type": "code",
   "execution_count": null,
   "metadata": {},
   "outputs": [],
   "source": [
    "for nbloque, enunciado in enumerate(['Optativa', 'Primera optativa', 'Segunda optativa']):\n",
    "    for k, v in opts.items():\n",
    "        conds = [ mat_df[f'{enunciado} ({x}ª preferencia)'] == k for x in range(1, 10) if f'{enunciado} ({x}ª preferencia)' in mat_df.columns ]\n",
    "        choices = list(range(1, len(conds) + 1))\n",
    "        if choices:\n",
    "            mat_df[f'O{nbloque}_{v}'] = np.select(conds, choices, default='')"
   ]
  },
  {
   "cell_type": "markdown",
   "metadata": {},
   "source": [
    "## Módulos FP"
   ]
  },
  {
   "cell_type": "code",
   "execution_count": null,
   "metadata": {},
   "outputs": [],
   "source": [
    "if CURSO in ['CF AD', 'CF GA', 'CF COM']:\n",
    "    for nombre_modulo, campo_pdf in mods[CURSO].items():\n",
    "        seleccion = mat_df['mods'].apply(lambda respuesta: nombre_modulo in respuesta)\n",
    "        mat_df[campo_pdf] = np.where(seleccion, 'Yes', 'Off')"
   ]
  },
  {
   "cell_type": "markdown",
   "metadata": {},
   "source": [
    "## Genera PDFs"
   ]
  },
  {
   "cell_type": "code",
   "execution_count": null,
   "metadata": {},
   "outputs": [],
   "source": [
    "for _, row in tqdm(mat_df.iterrows(), total=len(mat_df)):\n",
    "    nombre = row['Nombre completo del usuario']\n",
    "    fields = [ (k, v) for k, v in row.to_dict().items() ]\n",
    "    #print(fields)\n",
    "    fdf = forge_fdf(\"\", fields, [], [], [])\n",
    "    tmp_file = 'tmp.fdf'\n",
    "    with open(tmp_file, 'wb') as fdf_file:\n",
    "        fdf_file.write(fdf)\n",
    "\n",
    "    if CURSO in ['1ESO', '2ESO', '3ESO', '3PMAR', '4ESO', '1BACH', '2BACH']:\n",
    "        grupo  = row['grupo']\n",
    "        output_file = out_dir / f'{grupo} {nombre}.pdf'\n",
    "    else:\n",
    "        output_file = out_dir / f'{nombre}.pdf'\n",
    "        \n",
    "    cmd = f'pdftk \"{pdf_file}\" fill_form \"{tmp_file}\" output \"{output_file}\" dont_ask'\n",
    "    \n",
    "    assert os.system(cmd) == 0, f'Petada en la generación del PDF, mira el log de jupyter:\\n{cmd}'\n",
    "    os.remove(tmp_file)"
   ]
  }
 ],
 "metadata": {
  "kernelspec": {
   "display_name": "Python 3",
   "language": "python",
   "name": "python3"
  },
  "language_info": {
   "codemirror_mode": {
    "name": "ipython",
    "version": 3
   },
   "file_extension": ".py",
   "mimetype": "text/x-python",
   "name": "python",
   "nbconvert_exporter": "python",
   "pygments_lexer": "ipython3",
   "version": "3.7.7"
  }
 },
 "nbformat": 4,
 "nbformat_minor": 4
}
